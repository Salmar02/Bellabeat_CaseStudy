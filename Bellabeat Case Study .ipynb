{
 "cells": [
  {
   "cell_type": "markdown",
   "id": "93f04e1b",
   "metadata": {},
   "source": [
    "****"
   ]
  },
  {
   "attachments": {
    "image-3.png": {
     "image/png": "[encoded data removed]"
    }
   },
   "cell_type": "markdown",
   "id": "f015e5d5",
   "metadata": {},
   "source": [
    "![image-3.png](attachment:image-3.png)"
   ]
  },
  {
   "cell_type": "markdown",
   "id": "92780b28",
   "metadata": {},
   "source": [
    "***"
   ]
  },
  {
   "cell_type": "markdown",
   "id": "1a7f7084",
   "metadata": {},
   "source": [
    "- **Title:     Bellabeat Case Study**  (Capstone Project for the Professional Google Data Analytics Certificate)\n",
    "\n",
    "- **Author:    Salma Ramiz**\n",
    "\n",
    "- **Date:      August 2022**\n"
   ]
  },
  {
   "cell_type": "markdown",
   "id": "6d982bba",
   "metadata": {},
   "source": [
    "***"
   ]
  },
  {
   "cell_type": "markdown",
   "id": "a77ecbb6",
   "metadata": {},
   "source": [
    "# **<span style = \"color:#FE8062\"> How Can a Wellness Technology Company Play It Smart? </span>**"
   ]
  },
  {
   "cell_type": "markdown",
   "id": "4ac8ae5c",
   "metadata": {},
   "source": [
    "****"
   ]
  },
  {
   "cell_type": "markdown",
   "id": "09c26df7",
   "metadata": {},
   "source": [
    "## About the company:"
   ]
  },
  {
   "cell_type": "markdown",
   "id": "0823dcda",
   "metadata": {},
   "source": [
    "Bellabeat is a high-tech manufacturer of health-focused products for women founded by Urška Sršen and Sando Mur in 2013.\n",
    "\n",
    "They develop wearable and accompanying products that monitor biometric and lifestyle data to help women better understand how their bodies work and make healthier choices.\n",
    "\n",
    "Bellabeat has grown rapidly and quickly positioned itself as a tech-driven wellness company. By 2016, they had opened offices around the world and launched multiple products.\n",
    "\n",
    "####  Bellabeat products :\n",
    "\n",
    "**<span style = \"color:#FE8062\"> -  Bellabeat app:</span>** \n",
    "\n",
    "The Bellabeat app provides users with health data related to their activity, sleep, stress,\n",
    "menstrual cycle, and mindfulness habits. This data can help users better understand their current habits and\n",
    "make healthy decisions. The Bellabeat app connects to their line of smart wellness products.\n",
    "\n",
    "**<span style = \"color:#FE8062\">- Leaf:</span>**  \n",
    "\n",
    "Bellabeat’s classic wellness tracker can be worn as a bracelet, necklace, or clip. The Leaf tracker connects\n",
    "to the Bellabeat app to track activity, sleep, and stress.\n",
    "\n",
    "**<span style = \"color:#FE8062\">- Time:</span>**  \n",
    "\n",
    "This wellness watch combines the timeless look of a classic timepiece with smart technology to track user\n",
    "activity, sleep, and stress. The Time watch connects to the Bellabeat app to provide you with insights into your\n",
    "daily wellness.\n",
    "\n",
    "**<span style = \"color:#FE8062\">- Spring:</span>**  \n",
    "\n",
    "This is a water bottle that tracks daily water intake using smart technology to ensure that you are\n",
    "appropriately hydrated throughout the day. The Spring bottle connects to the Bellabeat app to track your\n",
    "hydration levels.\n",
    "\n",
    "**<span style = \"color:#FE8062\">- Ivy:</span>** \n",
    "\n",
    "Designed as an elegant bracelet that monitors your heart rate, respiratory rate, and cardiac coherence, and physical and mental activity.\n",
    "\n"
   ]
  },
  {
   "cell_type": "markdown",
   "id": "5375bc5c",
   "metadata": {},
   "source": [
    "## Business task"
   ]
  },
  {
   "cell_type": "markdown",
   "id": "13bad315",
   "metadata": {},
   "source": [
    "Urška Sršen, cofounder and Chief Creative Officer of Bellabeat, believes that analyzing smart\n",
    "device fitness data could help unlock new growth opportunities for the company.\n",
    "\n",
    "The purpose of this study is to analyze smart device usage data in order to gain insight into how consumers use non-Bellabeat smart devices.\n",
    "\n",
    "Then apply these insights to Bellabeat products. The insights will then help guide marketing strategy for the company."
   ]
  },
  {
   "cell_type": "markdown",
   "id": "d6b4f84b",
   "metadata": {},
   "source": [
    "## Data Source"
   ]
  },
  {
   "cell_type": "markdown",
   "id": "99420fe3",
   "metadata": {},
   "source": [
    "**Data Set : https://www.kaggle.com/datasets/arashnic/fitbit**\n",
    "\n",
    "This Kaggle data set contains personal fitness tracker from fitbit users by exploring their daily habits through the use of their smart devices.\n"
   ]
  },
  {
   "cell_type": "markdown",
   "id": "4a2febcc",
   "metadata": {},
   "source": [
    "## Data cleaning"
   ]
  },
  {
   "cell_type": "markdown",
   "id": "bd299d90",
   "metadata": {},
   "source": [
    "**The steps of Data Cleaning include :** \n",
    "- checking if there are any null values.\n",
    "- checking for duplicates.\n",
    "- checking if the columns ' type is appropriate.\n",
    "- Modifying columns.\n",
    "- Adding useful columns.\n",
    "- Deleting unuseful columns"
   ]
  },
  {
   "cell_type": "code",
   "execution_count": 37,
   "id": "971b418b",
   "metadata": {
    "scrolled": true
   },
   "outputs": [],
   "source": [
    "import pandas as pd\n",
    "import numpy as np\n",
    "import datetime as dt"
   ]
  },
  {
   "cell_type": "code",
   "execution_count": 38,
   "id": "f4568e07",
   "metadata": {},
   "outputs": [],
   "source": [
    "sleep_day = pd.read_csv(\"Desktop/sleepDay_merged.csv\")\n",
    "daily_activity = pd.read_csv(\"Desktop/dailyActivity_merged.csv\")\n",
    "hourly_steps = pd.read_csv(\"Desktop/hourlySteps.csv\")"
   ]
  },
  {
   "cell_type": "code",
   "execution_count": 39,
   "id": "3dc55019",
   "metadata": {
    "scrolled": true
   },
   "outputs": [
    {
     "data": {
      "text/html": [
       "<div>\n",
       "<style scoped>\n",
       "    .dataframe tbody tr th:only-of-type {\n",
       "        vertical-align: middle;\n",
       "    }\n",
       "\n",
       "    .dataframe tbody tr th {\n",
       "        vertical-align: top;\n",
       "    }\n",
       "\n",
       "    .dataframe thead th {\n",
       "        text-align: right;\n",
       "    }\n",
       "</style>\n",
       "<table border=\"1\" class=\"dataframe\">\n",
       "  <thead>\n",
       "    <tr style=\"text-align: right;\">\n",
       "      <th></th>\n",
       "      <th>Id</th>\n",
       "      <th>ActivityDate</th>\n",
       "      <th>TotalSteps</th>\n",
       "      <th>TotalDistance</th>\n",
       "      <th>TrackerDistance</th>\n",
       "      <th>LoggedActivitiesDistance</th>\n",
       "      <th>VeryActiveDistance</th>\n",
       "      <th>ModeratelyActiveDistance</th>\n",
       "      <th>LightActiveDistance</th>\n",
       "      <th>SedentaryActiveDistance</th>\n",
       "      <th>VeryActiveMinutes</th>\n",
       "      <th>FairlyActiveMinutes</th>\n",
       "      <th>LightlyActiveMinutes</th>\n",
       "      <th>SedentaryMinutes</th>\n",
       "      <th>Calories</th>\n",
       "    </tr>\n",
       "  </thead>\n",
       "  <tbody>\n",
       "    <tr>\n",
       "      <th>0</th>\n",
       "      <td>1503960366</td>\n",
       "      <td>4/12/2016</td>\n",
       "      <td>13162</td>\n",
       "      <td>8.50</td>\n",
       "      <td>8.50</td>\n",
       "      <td>0.0</td>\n",
       "      <td>1.88</td>\n",
       "      <td>0.55</td>\n",
       "      <td>6.06</td>\n",
       "      <td>0.0</td>\n",
       "      <td>25</td>\n",
       "      <td>13</td>\n",
       "      <td>328</td>\n",
       "      <td>728</td>\n",
       "      <td>1985</td>\n",
       "    </tr>\n",
       "    <tr>\n",
       "      <th>1</th>\n",
       "      <td>1503960366</td>\n",
       "      <td>4/13/2016</td>\n",
       "      <td>10735</td>\n",
       "      <td>6.97</td>\n",
       "      <td>6.97</td>\n",
       "      <td>0.0</td>\n",
       "      <td>1.57</td>\n",
       "      <td>0.69</td>\n",
       "      <td>4.71</td>\n",
       "      <td>0.0</td>\n",
       "      <td>21</td>\n",
       "      <td>19</td>\n",
       "      <td>217</td>\n",
       "      <td>776</td>\n",
       "      <td>1797</td>\n",
       "    </tr>\n",
       "    <tr>\n",
       "      <th>2</th>\n",
       "      <td>1503960366</td>\n",
       "      <td>4/14/2016</td>\n",
       "      <td>10460</td>\n",
       "      <td>6.74</td>\n",
       "      <td>6.74</td>\n",
       "      <td>0.0</td>\n",
       "      <td>2.44</td>\n",
       "      <td>0.40</td>\n",
       "      <td>3.91</td>\n",
       "      <td>0.0</td>\n",
       "      <td>30</td>\n",
       "      <td>11</td>\n",
       "      <td>181</td>\n",
       "      <td>1218</td>\n",
       "      <td>1776</td>\n",
       "    </tr>\n",
       "    <tr>\n",
       "      <th>3</th>\n",
       "      <td>1503960366</td>\n",
       "      <td>4/15/2016</td>\n",
       "      <td>9762</td>\n",
       "      <td>6.28</td>\n",
       "      <td>6.28</td>\n",
       "      <td>0.0</td>\n",
       "      <td>2.14</td>\n",
       "      <td>1.26</td>\n",
       "      <td>2.83</td>\n",
       "      <td>0.0</td>\n",
       "      <td>29</td>\n",
       "      <td>34</td>\n",
       "      <td>209</td>\n",
       "      <td>726</td>\n",
       "      <td>1745</td>\n",
       "    </tr>\n",
       "    <tr>\n",
       "      <th>4</th>\n",
       "      <td>1503960366</td>\n",
       "      <td>4/16/2016</td>\n",
       "      <td>12669</td>\n",
       "      <td>8.16</td>\n",
       "      <td>8.16</td>\n",
       "      <td>0.0</td>\n",
       "      <td>2.71</td>\n",
       "      <td>0.41</td>\n",
       "      <td>5.04</td>\n",
       "      <td>0.0</td>\n",
       "      <td>36</td>\n",
       "      <td>10</td>\n",
       "      <td>221</td>\n",
       "      <td>773</td>\n",
       "      <td>1863</td>\n",
       "    </tr>\n",
       "  </tbody>\n",
       "</table>\n",
       "</div>"
      ],
      "text/plain": [
       "           Id ActivityDate  TotalSteps  TotalDistance  TrackerDistance  \\\n",
       "0  1503960366    4/12/2016       13162           8.50             8.50   \n",
       "1  1503960366    4/13/2016       10735           6.97             6.97   \n",
       "2  1503960366    4/14/2016       10460           6.74             6.74   \n",
       "3  1503960366    4/15/2016        9762           6.28             6.28   \n",
       "4  1503960366    4/16/2016       12669           8.16             8.16   \n",
       "\n",
       "   LoggedActivitiesDistance  VeryActiveDistance  ModeratelyActiveDistance  \\\n",
       "0                       0.0                1.88                      0.55   \n",
       "1                       0.0                1.57                      0.69   \n",
       "2                       0.0                2.44                      0.40   \n",
       "3                       0.0                2.14                      1.26   \n",
       "4                       0.0                2.71                      0.41   \n",
       "\n",
       "   LightActiveDistance  SedentaryActiveDistance  VeryActiveMinutes  \\\n",
       "0                 6.06                      0.0                 25   \n",
       "1                 4.71                      0.0                 21   \n",
       "2                 3.91                      0.0                 30   \n",
       "3                 2.83                      0.0                 29   \n",
       "4                 5.04                      0.0                 36   \n",
       "\n",
       "   FairlyActiveMinutes  LightlyActiveMinutes  SedentaryMinutes  Calories  \n",
       "0                   13                   328               728      1985  \n",
       "1                   19                   217               776      1797  \n",
       "2                   11                   181              1218      1776  \n",
       "3                   34                   209               726      1745  \n",
       "4                   10                   221               773      1863  "
      ]
     },
     "execution_count": 39,
     "metadata": {},
     "output_type": "execute_result"
    }
   ],
   "source": [
    "daily_activity.head()"
   ]
  },
  {
   "cell_type": "code",
   "execution_count": 40,
   "id": "bfc6fcc8",
   "metadata": {
    "scrolled": true
   },
   "outputs": [
    {
     "data": {
      "text/html": [
       "<div>\n",
       "<style scoped>\n",
       "    .dataframe tbody tr th:only-of-type {\n",
       "        vertical-align: middle;\n",
       "    }\n",
       "\n",
       "    .dataframe tbody tr th {\n",
       "        vertical-align: top;\n",
       "    }\n",
       "\n",
       "    .dataframe thead th {\n",
       "        text-align: right;\n",
       "    }\n",
       "</style>\n",
       "<table border=\"1\" class=\"dataframe\">\n",
       "  <thead>\n",
       "    <tr style=\"text-align: right;\">\n",
       "      <th></th>\n",
       "      <th>Id</th>\n",
       "      <th>SleepDay</th>\n",
       "      <th>TotalSleepRecords</th>\n",
       "      <th>TotalMinutesAsleep</th>\n",
       "      <th>TotalTimeInBed</th>\n",
       "    </tr>\n",
       "  </thead>\n",
       "  <tbody>\n",
       "    <tr>\n",
       "      <th>0</th>\n",
       "      <td>1503960366</td>\n",
       "      <td>4/12/2016 12:00:00 AM</td>\n",
       "      <td>1</td>\n",
       "      <td>327</td>\n",
       "      <td>346</td>\n",
       "    </tr>\n",
       "    <tr>\n",
       "      <th>1</th>\n",
       "      <td>1503960366</td>\n",
       "      <td>4/13/2016 12:00:00 AM</td>\n",
       "      <td>2</td>\n",
       "      <td>384</td>\n",
       "      <td>407</td>\n",
       "    </tr>\n",
       "    <tr>\n",
       "      <th>2</th>\n",
       "      <td>1503960366</td>\n",
       "      <td>4/15/2016 12:00:00 AM</td>\n",
       "      <td>1</td>\n",
       "      <td>412</td>\n",
       "      <td>442</td>\n",
       "    </tr>\n",
       "    <tr>\n",
       "      <th>3</th>\n",
       "      <td>1503960366</td>\n",
       "      <td>4/16/2016 12:00:00 AM</td>\n",
       "      <td>2</td>\n",
       "      <td>340</td>\n",
       "      <td>367</td>\n",
       "    </tr>\n",
       "    <tr>\n",
       "      <th>4</th>\n",
       "      <td>1503960366</td>\n",
       "      <td>4/17/2016 12:00:00 AM</td>\n",
       "      <td>1</td>\n",
       "      <td>700</td>\n",
       "      <td>712</td>\n",
       "    </tr>\n",
       "  </tbody>\n",
       "</table>\n",
       "</div>"
      ],
      "text/plain": [
       "           Id               SleepDay  TotalSleepRecords  TotalMinutesAsleep  \\\n",
       "0  1503960366  4/12/2016 12:00:00 AM                  1                 327   \n",
       "1  1503960366  4/13/2016 12:00:00 AM                  2                 384   \n",
       "2  1503960366  4/15/2016 12:00:00 AM                  1                 412   \n",
       "3  1503960366  4/16/2016 12:00:00 AM                  2                 340   \n",
       "4  1503960366  4/17/2016 12:00:00 AM                  1                 700   \n",
       "\n",
       "   TotalTimeInBed  \n",
       "0             346  \n",
       "1             407  \n",
       "2             442  \n",
       "3             367  \n",
       "4             712  "
      ]
     },
     "execution_count": 40,
     "metadata": {},
     "output_type": "execute_result"
    }
   ],
   "source": [
    "sleep_day.head()"
   ]
  },
  {
   "cell_type": "code",
   "execution_count": 41,
   "id": "b46f1b8f",
   "metadata": {},
   "outputs": [
    {
     "data": {
      "text/html": [
       "<div>\n",
       "<style scoped>\n",
       "    .dataframe tbody tr th:only-of-type {\n",
       "        vertical-align: middle;\n",
       "    }\n",
       "\n",
       "    .dataframe tbody tr th {\n",
       "        vertical-align: top;\n",
       "    }\n",
       "\n",
       "    .dataframe thead th {\n",
       "        text-align: right;\n",
       "    }\n",
       "</style>\n",
       "<table border=\"1\" class=\"dataframe\">\n",
       "  <thead>\n",
       "    <tr style=\"text-align: right;\">\n",
       "      <th></th>\n",
       "      <th>Id</th>\n",
       "      <th>ActivityHour</th>\n",
       "      <th>StepTotal</th>\n",
       "    </tr>\n",
       "  </thead>\n",
       "  <tbody>\n",
       "    <tr>\n",
       "      <th>0</th>\n",
       "      <td>1503960366</td>\n",
       "      <td>4/12/2016 12:00:00 AM</td>\n",
       "      <td>373</td>\n",
       "    </tr>\n",
       "    <tr>\n",
       "      <th>1</th>\n",
       "      <td>1503960366</td>\n",
       "      <td>4/12/2016 1:00:00 AM</td>\n",
       "      <td>160</td>\n",
       "    </tr>\n",
       "    <tr>\n",
       "      <th>2</th>\n",
       "      <td>1503960366</td>\n",
       "      <td>4/12/2016 2:00:00 AM</td>\n",
       "      <td>151</td>\n",
       "    </tr>\n",
       "    <tr>\n",
       "      <th>3</th>\n",
       "      <td>1503960366</td>\n",
       "      <td>4/12/2016 3:00:00 AM</td>\n",
       "      <td>0</td>\n",
       "    </tr>\n",
       "    <tr>\n",
       "      <th>4</th>\n",
       "      <td>1503960366</td>\n",
       "      <td>4/12/2016 4:00:00 AM</td>\n",
       "      <td>0</td>\n",
       "    </tr>\n",
       "    <tr>\n",
       "      <th>...</th>\n",
       "      <td>...</td>\n",
       "      <td>...</td>\n",
       "      <td>...</td>\n",
       "    </tr>\n",
       "    <tr>\n",
       "      <th>22094</th>\n",
       "      <td>8877689391</td>\n",
       "      <td>5/12/2016 10:00:00 AM</td>\n",
       "      <td>514</td>\n",
       "    </tr>\n",
       "    <tr>\n",
       "      <th>22095</th>\n",
       "      <td>8877689391</td>\n",
       "      <td>5/12/2016 11:00:00 AM</td>\n",
       "      <td>1407</td>\n",
       "    </tr>\n",
       "    <tr>\n",
       "      <th>22096</th>\n",
       "      <td>8877689391</td>\n",
       "      <td>5/12/2016 12:00:00 PM</td>\n",
       "      <td>3135</td>\n",
       "    </tr>\n",
       "    <tr>\n",
       "      <th>22097</th>\n",
       "      <td>8877689391</td>\n",
       "      <td>5/12/2016 1:00:00 PM</td>\n",
       "      <td>307</td>\n",
       "    </tr>\n",
       "    <tr>\n",
       "      <th>22098</th>\n",
       "      <td>8877689391</td>\n",
       "      <td>5/12/2016 2:00:00 PM</td>\n",
       "      <td>457</td>\n",
       "    </tr>\n",
       "  </tbody>\n",
       "</table>\n",
       "<p>22099 rows × 3 columns</p>\n",
       "</div>"
      ],
      "text/plain": [
       "               Id           ActivityHour  StepTotal\n",
       "0      1503960366  4/12/2016 12:00:00 AM        373\n",
       "1      1503960366   4/12/2016 1:00:00 AM        160\n",
       "2      1503960366   4/12/2016 2:00:00 AM        151\n",
       "3      1503960366   4/12/2016 3:00:00 AM          0\n",
       "4      1503960366   4/12/2016 4:00:00 AM          0\n",
       "...           ...                    ...        ...\n",
       "22094  8877689391  5/12/2016 10:00:00 AM        514\n",
       "22095  8877689391  5/12/2016 11:00:00 AM       1407\n",
       "22096  8877689391  5/12/2016 12:00:00 PM       3135\n",
       "22097  8877689391   5/12/2016 1:00:00 PM        307\n",
       "22098  8877689391   5/12/2016 2:00:00 PM        457\n",
       "\n",
       "[22099 rows x 3 columns]"
      ]
     },
     "execution_count": 41,
     "metadata": {},
     "output_type": "execute_result"
    }
   ],
   "source": [
    "hourly_steps"
   ]
  },
  {
   "cell_type": "markdown",
   "id": "0e6ec80a",
   "metadata": {},
   "source": [
    "### <span style = \"color:green\">Checking for null values</span>"
   ]
  },
  {
   "cell_type": "code",
   "execution_count": 42,
   "id": "ae7ddc61",
   "metadata": {},
   "outputs": [
    {
     "data": {
      "text/plain": [
       "Id                    0\n",
       "SleepDay              0\n",
       "TotalSleepRecords     0\n",
       "TotalMinutesAsleep    0\n",
       "TotalTimeInBed        0\n",
       "dtype: int64"
      ]
     },
     "execution_count": 42,
     "metadata": {},
     "output_type": "execute_result"
    }
   ],
   "source": [
    "sleep_day.isna().sum()"
   ]
  },
  {
   "cell_type": "code",
   "execution_count": 43,
   "id": "68f22160",
   "metadata": {},
   "outputs": [
    {
     "data": {
      "text/plain": [
       "Id                          0\n",
       "ActivityDate                0\n",
       "TotalSteps                  0\n",
       "TotalDistance               0\n",
       "TrackerDistance             0\n",
       "LoggedActivitiesDistance    0\n",
       "VeryActiveDistance          0\n",
       "ModeratelyActiveDistance    0\n",
       "LightActiveDistance         0\n",
       "SedentaryActiveDistance     0\n",
       "VeryActiveMinutes           0\n",
       "FairlyActiveMinutes         0\n",
       "LightlyActiveMinutes        0\n",
       "SedentaryMinutes            0\n",
       "Calories                    0\n",
       "dtype: int64"
      ]
     },
     "execution_count": 43,
     "metadata": {},
     "output_type": "execute_result"
    }
   ],
   "source": [
    "daily_activity.isna().sum()"
   ]
  },
  {
   "cell_type": "code",
   "execution_count": 44,
   "id": "ad3b72a6",
   "metadata": {},
   "outputs": [
    {
     "data": {
      "text/plain": [
       "Id              0\n",
       "ActivityHour    0\n",
       "StepTotal       0\n",
       "dtype: int64"
      ]
     },
     "execution_count": 44,
     "metadata": {},
     "output_type": "execute_result"
    }
   ],
   "source": [
    "hourly_steps.isna().sum()"
   ]
  },
  {
   "cell_type": "markdown",
   "id": "f978a5d8",
   "metadata": {},
   "source": [
    "#### <span style = \"color:yellowgreen\"> There are no Null values in the three datasets.</span>"
   ]
  },
  {
   "cell_type": "markdown",
   "id": "c738def5",
   "metadata": {},
   "source": [
    "****"
   ]
  },
  {
   "cell_type": "markdown",
   "id": "5bd26583",
   "metadata": {},
   "source": [
    "### <span style = \"color:green\">Checking for duplicates</span>"
   ]
  },
  {
   "cell_type": "code",
   "execution_count": 45,
   "id": "21a6a6c8",
   "metadata": {},
   "outputs": [
    {
     "data": {
      "text/plain": [
       "0"
      ]
     },
     "execution_count": 45,
     "metadata": {},
     "output_type": "execute_result"
    }
   ],
   "source": [
    "daily_activity.duplicated().sum()"
   ]
  },
  {
   "cell_type": "markdown",
   "id": "aa1a2832",
   "metadata": {},
   "source": [
    "#### <span style = \"color:yellowgreen\"> There are no duplicates in the daily_activity dataframe.</span>"
   ]
  },
  {
   "cell_type": "code",
   "execution_count": 46,
   "id": "ea33ac33",
   "metadata": {},
   "outputs": [
    {
     "data": {
      "text/plain": [
       "3"
      ]
     },
     "execution_count": 46,
     "metadata": {},
     "output_type": "execute_result"
    }
   ],
   "source": [
    "sleep_day.duplicated().sum()"
   ]
  },
  {
   "cell_type": "markdown",
   "id": "59eb6a4a",
   "metadata": {},
   "source": [
    "#### <span style = \"color:red\"> There are 3 duplicates in the sleep_day dataframe, so we must delete them.</span>"
   ]
  },
  {
   "cell_type": "code",
   "execution_count": 47,
   "id": "01471c0c",
   "metadata": {
    "scrolled": true
   },
   "outputs": [
    {
     "data": {
      "text/plain": [
       "0"
      ]
     },
     "execution_count": 47,
     "metadata": {},
     "output_type": "execute_result"
    }
   ],
   "source": [
    "sleep_day.drop_duplicates(keep=\"first\",inplace=True) #drop duplicates except for the \"first\" occurrence.\n",
    "sleep_day.duplicated().sum()"
   ]
  },
  {
   "cell_type": "code",
   "execution_count": 48,
   "id": "0bc58c03",
   "metadata": {},
   "outputs": [
    {
     "data": {
      "text/plain": [
       "0"
      ]
     },
     "execution_count": 48,
     "metadata": {},
     "output_type": "execute_result"
    }
   ],
   "source": [
    "hourly_steps.duplicated().sum()"
   ]
  },
  {
   "cell_type": "markdown",
   "id": "e27d1820",
   "metadata": {},
   "source": [
    "#### <span style = \"color:yellowgreen\"> There are no duplicates in the hourly_steps dataframe.</span>"
   ]
  },
  {
   "cell_type": "markdown",
   "id": "3365632f",
   "metadata": {},
   "source": [
    "****"
   ]
  },
  {
   "cell_type": "markdown",
   "id": "5afcd994",
   "metadata": {},
   "source": [
    "### <span style = \"color:green\">Checking for the columns' type</span>"
   ]
  },
  {
   "cell_type": "code",
   "execution_count": 49,
   "id": "de3a8f0a",
   "metadata": {},
   "outputs": [
    {
     "name": "stdout",
     "output_type": "stream",
     "text": [
      "<class 'pandas.core.frame.DataFrame'>\n",
      "Int64Index: 410 entries, 0 to 412\n",
      "Data columns (total 5 columns):\n",
      " #   Column              Non-Null Count  Dtype \n",
      "---  ------              --------------  ----- \n",
      " 0   Id                  410 non-null    int64 \n",
      " 1   SleepDay            410 non-null    object\n",
      " 2   TotalSleepRecords   410 non-null    int64 \n",
      " 3   TotalMinutesAsleep  410 non-null    int64 \n",
      " 4   TotalTimeInBed      410 non-null    int64 \n",
      "dtypes: int64(4), object(1)\n",
      "memory usage: 19.2+ KB\n"
     ]
    }
   ],
   "source": [
    "sleep_day.info()"
   ]
  },
  {
   "cell_type": "code",
   "execution_count": 50,
   "id": "827c12ae",
   "metadata": {},
   "outputs": [],
   "source": [
    "#Converting SleepDay's type to datetime64\n",
    "\n",
    "sleep_day[\"SleepDay\"] = pd.to_datetime(sleep_day[\"SleepDay\"], format=\"%m/%d/%Y %I:%M:%S %p\")"
   ]
  },
  {
   "cell_type": "code",
   "execution_count": 51,
   "id": "858ac163",
   "metadata": {},
   "outputs": [
    {
     "data": {
      "text/plain": [
       "0   2016-04-12\n",
       "1   2016-04-13\n",
       "2   2016-04-15\n",
       "3   2016-04-16\n",
       "4   2016-04-17\n",
       "Name: SleepDay, dtype: datetime64[ns]"
      ]
     },
     "execution_count": 51,
     "metadata": {},
     "output_type": "execute_result"
    }
   ],
   "source": [
    "sleep_day[\"SleepDay\"].head()"
   ]
  },
  {
   "cell_type": "code",
   "execution_count": 52,
   "id": "bb63b8c0",
   "metadata": {},
   "outputs": [
    {
     "data": {
      "text/plain": [
       "True"
      ]
     },
     "execution_count": 52,
     "metadata": {},
     "output_type": "execute_result"
    }
   ],
   "source": [
    "#checking the type\n",
    "np.dtype('datetime64[ns]') == np.dtype('<M8[ns]')"
   ]
  },
  {
   "cell_type": "markdown",
   "id": "ca6acc5a",
   "metadata": {},
   "source": [
    "****"
   ]
  },
  {
   "cell_type": "code",
   "execution_count": 53,
   "id": "39c67a2c",
   "metadata": {},
   "outputs": [
    {
     "name": "stdout",
     "output_type": "stream",
     "text": [
      "<class 'pandas.core.frame.DataFrame'>\n",
      "RangeIndex: 940 entries, 0 to 939\n",
      "Data columns (total 15 columns):\n",
      " #   Column                    Non-Null Count  Dtype  \n",
      "---  ------                    --------------  -----  \n",
      " 0   Id                        940 non-null    int64  \n",
      " 1   ActivityDate              940 non-null    object \n",
      " 2   TotalSteps                940 non-null    int64  \n",
      " 3   TotalDistance             940 non-null    float64\n",
      " 4   TrackerDistance           940 non-null    float64\n",
      " 5   LoggedActivitiesDistance  940 non-null    float64\n",
      " 6   VeryActiveDistance        940 non-null    float64\n",
      " 7   ModeratelyActiveDistance  940 non-null    float64\n",
      " 8   LightActiveDistance       940 non-null    float64\n",
      " 9   SedentaryActiveDistance   940 non-null    float64\n",
      " 10  VeryActiveMinutes         940 non-null    int64  \n",
      " 11  FairlyActiveMinutes       940 non-null    int64  \n",
      " 12  LightlyActiveMinutes      940 non-null    int64  \n",
      " 13  SedentaryMinutes          940 non-null    int64  \n",
      " 14  Calories                  940 non-null    int64  \n",
      "dtypes: float64(7), int64(7), object(1)\n",
      "memory usage: 110.3+ KB\n"
     ]
    }
   ],
   "source": [
    "daily_activity.info()"
   ]
  },
  {
   "cell_type": "code",
   "execution_count": 54,
   "id": "30024de3",
   "metadata": {},
   "outputs": [],
   "source": [
    "#Converting ActivityDate's type to Datetime64\n",
    "daily_activity[\"ActivityDate\"] = pd.to_datetime(daily_activity[\"ActivityDate\"], format=\"%m/%d/%Y\")"
   ]
  },
  {
   "cell_type": "code",
   "execution_count": 55,
   "id": "6f075a80",
   "metadata": {},
   "outputs": [
    {
     "data": {
      "text/plain": [
       "dtype('<M8[ns]')"
      ]
     },
     "execution_count": 55,
     "metadata": {},
     "output_type": "execute_result"
    }
   ],
   "source": [
    "daily_activity[\"ActivityDate\"].dtype"
   ]
  },
  {
   "cell_type": "code",
   "execution_count": 56,
   "id": "ea0cf7ca",
   "metadata": {},
   "outputs": [
    {
     "data": {
      "text/plain": [
       "True"
      ]
     },
     "execution_count": 56,
     "metadata": {},
     "output_type": "execute_result"
    }
   ],
   "source": [
    "#checking the type\n",
    "np.dtype('datetime64[ns]') == np.dtype('<M8[ns]')"
   ]
  },
  {
   "cell_type": "markdown",
   "id": "fdd70d0a",
   "metadata": {},
   "source": [
    "****"
   ]
  },
  {
   "cell_type": "code",
   "execution_count": 57,
   "id": "b140223f",
   "metadata": {},
   "outputs": [
    {
     "name": "stdout",
     "output_type": "stream",
     "text": [
      "<class 'pandas.core.frame.DataFrame'>\n",
      "RangeIndex: 22099 entries, 0 to 22098\n",
      "Data columns (total 3 columns):\n",
      " #   Column        Non-Null Count  Dtype \n",
      "---  ------        --------------  ----- \n",
      " 0   Id            22099 non-null  int64 \n",
      " 1   ActivityHour  22099 non-null  object\n",
      " 2   StepTotal     22099 non-null  int64 \n",
      "dtypes: int64(2), object(1)\n",
      "memory usage: 518.1+ KB\n"
     ]
    }
   ],
   "source": [
    "hourly_steps.info()"
   ]
  },
  {
   "cell_type": "code",
   "execution_count": 58,
   "id": "cc4d3d68",
   "metadata": {},
   "outputs": [],
   "source": [
    "#Converting ActivityHour's type to Datetime64\n",
    "\n",
    "hourly_steps[\"ActivityHour\"] = pd.to_datetime(hourly_steps[\"ActivityHour\"], format=\"%m/%d/%Y %I:%M:%S %p\")\n"
   ]
  },
  {
   "cell_type": "code",
   "execution_count": 59,
   "id": "e792bd36",
   "metadata": {},
   "outputs": [
    {
     "data": {
      "text/plain": [
       "dtype('<M8[ns]')"
      ]
     },
     "execution_count": 59,
     "metadata": {},
     "output_type": "execute_result"
    }
   ],
   "source": [
    "hourly_steps[\"ActivityHour\"].dtype"
   ]
  },
  {
   "cell_type": "code",
   "execution_count": 60,
   "id": "e6f7db76",
   "metadata": {},
   "outputs": [
    {
     "data": {
      "text/plain": [
       "True"
      ]
     },
     "execution_count": 60,
     "metadata": {},
     "output_type": "execute_result"
    }
   ],
   "source": [
    "#checking the type\n",
    "np.dtype('datetime64[ns]') == np.dtype('<M8[ns]')"
   ]
  },
  {
   "cell_type": "markdown",
   "id": "09e7522e",
   "metadata": {},
   "source": [
    "****"
   ]
  },
  {
   "cell_type": "markdown",
   "id": "bb2f3ef5",
   "metadata": {},
   "source": [
    "### <span style = \"color:green\">Adding new columuns</span>"
   ]
  },
  {
   "cell_type": "code",
   "execution_count": 61,
   "id": "58f816d1",
   "metadata": {},
   "outputs": [
    {
     "data": {
      "text/html": [
       "<div>\n",
       "<style scoped>\n",
       "    .dataframe tbody tr th:only-of-type {\n",
       "        vertical-align: middle;\n",
       "    }\n",
       "\n",
       "    .dataframe tbody tr th {\n",
       "        vertical-align: top;\n",
       "    }\n",
       "\n",
       "    .dataframe thead th {\n",
       "        text-align: right;\n",
       "    }\n",
       "</style>\n",
       "<table border=\"1\" class=\"dataframe\">\n",
       "  <thead>\n",
       "    <tr style=\"text-align: right;\">\n",
       "      <th></th>\n",
       "      <th>Id</th>\n",
       "      <th>SleepDay</th>\n",
       "      <th>TotalSleepRecords</th>\n",
       "      <th>Total_Hours_Asleep</th>\n",
       "      <th>Total_Hours_In_Bed</th>\n",
       "      <th>Total_Minutes_Awake_In_Bed</th>\n",
       "      <th>Day_of_week</th>\n",
       "    </tr>\n",
       "  </thead>\n",
       "  <tbody>\n",
       "    <tr>\n",
       "      <th>0</th>\n",
       "      <td>1503960366</td>\n",
       "      <td>2016-04-12</td>\n",
       "      <td>1</td>\n",
       "      <td>5.45</td>\n",
       "      <td>5.77</td>\n",
       "      <td>19</td>\n",
       "      <td>Tuesday</td>\n",
       "    </tr>\n",
       "    <tr>\n",
       "      <th>1</th>\n",
       "      <td>1503960366</td>\n",
       "      <td>2016-04-13</td>\n",
       "      <td>2</td>\n",
       "      <td>6.40</td>\n",
       "      <td>6.78</td>\n",
       "      <td>23</td>\n",
       "      <td>Wednesday</td>\n",
       "    </tr>\n",
       "    <tr>\n",
       "      <th>2</th>\n",
       "      <td>1503960366</td>\n",
       "      <td>2016-04-15</td>\n",
       "      <td>1</td>\n",
       "      <td>6.87</td>\n",
       "      <td>7.37</td>\n",
       "      <td>30</td>\n",
       "      <td>Friday</td>\n",
       "    </tr>\n",
       "    <tr>\n",
       "      <th>3</th>\n",
       "      <td>1503960366</td>\n",
       "      <td>2016-04-16</td>\n",
       "      <td>2</td>\n",
       "      <td>5.67</td>\n",
       "      <td>6.12</td>\n",
       "      <td>27</td>\n",
       "      <td>Saturday</td>\n",
       "    </tr>\n",
       "    <tr>\n",
       "      <th>4</th>\n",
       "      <td>1503960366</td>\n",
       "      <td>2016-04-17</td>\n",
       "      <td>1</td>\n",
       "      <td>11.67</td>\n",
       "      <td>11.87</td>\n",
       "      <td>12</td>\n",
       "      <td>Sunday</td>\n",
       "    </tr>\n",
       "  </tbody>\n",
       "</table>\n",
       "</div>"
      ],
      "text/plain": [
       "           Id   SleepDay  TotalSleepRecords  Total_Hours_Asleep  \\\n",
       "0  1503960366 2016-04-12                  1                5.45   \n",
       "1  1503960366 2016-04-13                  2                6.40   \n",
       "2  1503960366 2016-04-15                  1                6.87   \n",
       "3  1503960366 2016-04-16                  2                5.67   \n",
       "4  1503960366 2016-04-17                  1               11.67   \n",
       "\n",
       "   Total_Hours_In_Bed  Total_Minutes_Awake_In_Bed Day_of_week  \n",
       "0                5.77                          19     Tuesday  \n",
       "1                6.78                          23   Wednesday  \n",
       "2                7.37                          30      Friday  \n",
       "3                6.12                          27    Saturday  \n",
       "4               11.87                          12      Sunday  "
      ]
     },
     "execution_count": 61,
     "metadata": {},
     "output_type": "execute_result"
    }
   ],
   "source": [
    "#Total Hours Asleep\n",
    "sleep_day[\"Total_Hours_Asleep\"]= (sleep_day[\"TotalMinutesAsleep\"]/60).round(decimals=2)\n",
    "\n",
    "#Total Hours In Bed\n",
    "sleep_day[\"Total_Hours_In_Bed\"]= (sleep_day[\"TotalTimeInBed\"]/60).round(decimals=2)\n",
    "\n",
    "#Time Spent in bed awake\n",
    "sleep_day[\"Total_Minutes_Awake_In_Bed\"] = sleep_day[\"TotalTimeInBed\"] - sleep_day[\"TotalMinutesAsleep\"]\n",
    "\n",
    "#Adding days of the week column\n",
    "sleep_day[\"Day_of_week\"] = sleep_day[\"SleepDay\"].dt.day_name()\n",
    "\n",
    "sleep_day.drop(\"TotalTimeInBed\",axis=1,inplace=True)\n",
    "sleep_day.drop(\"TotalMinutesAsleep\",axis=1,inplace=True)\n",
    "\n",
    "sleep_day.head(5)"
   ]
  },
  {
   "cell_type": "markdown",
   "id": "7753a7bc",
   "metadata": {},
   "source": [
    "***"
   ]
  },
  {
   "cell_type": "code",
   "execution_count": 62,
   "id": "7698e65e",
   "metadata": {
    "scrolled": false
   },
   "outputs": [
    {
     "data": {
      "text/html": [
       "<div>\n",
       "<style scoped>\n",
       "    .dataframe tbody tr th:only-of-type {\n",
       "        vertical-align: middle;\n",
       "    }\n",
       "\n",
       "    .dataframe tbody tr th {\n",
       "        vertical-align: top;\n",
       "    }\n",
       "\n",
       "    .dataframe thead th {\n",
       "        text-align: right;\n",
       "    }\n",
       "</style>\n",
       "<table border=\"1\" class=\"dataframe\">\n",
       "  <thead>\n",
       "    <tr style=\"text-align: right;\">\n",
       "      <th></th>\n",
       "      <th>Id</th>\n",
       "      <th>ActivityDate</th>\n",
       "      <th>TotalSteps</th>\n",
       "      <th>TotalDistance</th>\n",
       "      <th>TrackerDistance</th>\n",
       "      <th>LoggedActivitiesDistance</th>\n",
       "      <th>VeryActiveDistance</th>\n",
       "      <th>ModeratelyActiveDistance</th>\n",
       "      <th>LightActiveDistance</th>\n",
       "      <th>SedentaryActiveDistance</th>\n",
       "      <th>VeryActiveMinutes</th>\n",
       "      <th>FairlyActiveMinutes</th>\n",
       "      <th>LightlyActiveMinutes</th>\n",
       "      <th>SedentaryMinutes</th>\n",
       "      <th>Calories</th>\n",
       "      <th>Day_of_the_week</th>\n",
       "    </tr>\n",
       "  </thead>\n",
       "  <tbody>\n",
       "    <tr>\n",
       "      <th>0</th>\n",
       "      <td>1503960366</td>\n",
       "      <td>2016-04-12</td>\n",
       "      <td>13162</td>\n",
       "      <td>8.50</td>\n",
       "      <td>8.50</td>\n",
       "      <td>0.0</td>\n",
       "      <td>1.88</td>\n",
       "      <td>0.55</td>\n",
       "      <td>6.06</td>\n",
       "      <td>0.0</td>\n",
       "      <td>25</td>\n",
       "      <td>13</td>\n",
       "      <td>328</td>\n",
       "      <td>728</td>\n",
       "      <td>1985</td>\n",
       "      <td>Tuesday</td>\n",
       "    </tr>\n",
       "    <tr>\n",
       "      <th>1</th>\n",
       "      <td>1503960366</td>\n",
       "      <td>2016-04-13</td>\n",
       "      <td>10735</td>\n",
       "      <td>6.97</td>\n",
       "      <td>6.97</td>\n",
       "      <td>0.0</td>\n",
       "      <td>1.57</td>\n",
       "      <td>0.69</td>\n",
       "      <td>4.71</td>\n",
       "      <td>0.0</td>\n",
       "      <td>21</td>\n",
       "      <td>19</td>\n",
       "      <td>217</td>\n",
       "      <td>776</td>\n",
       "      <td>1797</td>\n",
       "      <td>Wednesday</td>\n",
       "    </tr>\n",
       "    <tr>\n",
       "      <th>2</th>\n",
       "      <td>1503960366</td>\n",
       "      <td>2016-04-14</td>\n",
       "      <td>10460</td>\n",
       "      <td>6.74</td>\n",
       "      <td>6.74</td>\n",
       "      <td>0.0</td>\n",
       "      <td>2.44</td>\n",
       "      <td>0.40</td>\n",
       "      <td>3.91</td>\n",
       "      <td>0.0</td>\n",
       "      <td>30</td>\n",
       "      <td>11</td>\n",
       "      <td>181</td>\n",
       "      <td>1218</td>\n",
       "      <td>1776</td>\n",
       "      <td>Thursday</td>\n",
       "    </tr>\n",
       "    <tr>\n",
       "      <th>3</th>\n",
       "      <td>1503960366</td>\n",
       "      <td>2016-04-15</td>\n",
       "      <td>9762</td>\n",
       "      <td>6.28</td>\n",
       "      <td>6.28</td>\n",
       "      <td>0.0</td>\n",
       "      <td>2.14</td>\n",
       "      <td>1.26</td>\n",
       "      <td>2.83</td>\n",
       "      <td>0.0</td>\n",
       "      <td>29</td>\n",
       "      <td>34</td>\n",
       "      <td>209</td>\n",
       "      <td>726</td>\n",
       "      <td>1745</td>\n",
       "      <td>Friday</td>\n",
       "    </tr>\n",
       "    <tr>\n",
       "      <th>4</th>\n",
       "      <td>1503960366</td>\n",
       "      <td>2016-04-16</td>\n",
       "      <td>12669</td>\n",
       "      <td>8.16</td>\n",
       "      <td>8.16</td>\n",
       "      <td>0.0</td>\n",
       "      <td>2.71</td>\n",
       "      <td>0.41</td>\n",
       "      <td>5.04</td>\n",
       "      <td>0.0</td>\n",
       "      <td>36</td>\n",
       "      <td>10</td>\n",
       "      <td>221</td>\n",
       "      <td>773</td>\n",
       "      <td>1863</td>\n",
       "      <td>Saturday</td>\n",
       "    </tr>\n",
       "  </tbody>\n",
       "</table>\n",
       "</div>"
      ],
      "text/plain": [
       "           Id ActivityDate  TotalSteps  TotalDistance  TrackerDistance  \\\n",
       "0  1503960366   2016-04-12       13162           8.50             8.50   \n",
       "1  1503960366   2016-04-13       10735           6.97             6.97   \n",
       "2  1503960366   2016-04-14       10460           6.74             6.74   \n",
       "3  1503960366   2016-04-15        9762           6.28             6.28   \n",
       "4  1503960366   2016-04-16       12669           8.16             8.16   \n",
       "\n",
       "   LoggedActivitiesDistance  VeryActiveDistance  ModeratelyActiveDistance  \\\n",
       "0                       0.0                1.88                      0.55   \n",
       "1                       0.0                1.57                      0.69   \n",
       "2                       0.0                2.44                      0.40   \n",
       "3                       0.0                2.14                      1.26   \n",
       "4                       0.0                2.71                      0.41   \n",
       "\n",
       "   LightActiveDistance  SedentaryActiveDistance  VeryActiveMinutes  \\\n",
       "0                 6.06                      0.0                 25   \n",
       "1                 4.71                      0.0                 21   \n",
       "2                 3.91                      0.0                 30   \n",
       "3                 2.83                      0.0                 29   \n",
       "4                 5.04                      0.0                 36   \n",
       "\n",
       "   FairlyActiveMinutes  LightlyActiveMinutes  SedentaryMinutes  Calories  \\\n",
       "0                   13                   328               728      1985   \n",
       "1                   19                   217               776      1797   \n",
       "2                   11                   181              1218      1776   \n",
       "3                   34                   209               726      1745   \n",
       "4                   10                   221               773      1863   \n",
       "\n",
       "  Day_of_the_week  \n",
       "0         Tuesday  \n",
       "1       Wednesday  \n",
       "2        Thursday  \n",
       "3          Friday  \n",
       "4        Saturday  "
      ]
     },
     "execution_count": 62,
     "metadata": {},
     "output_type": "execute_result"
    }
   ],
   "source": [
    "#Adding days of the week column\n",
    "\n",
    "daily_activity[\"Day_of_the_week\"]=daily_activity[\"ActivityDate\"].dt.day_name()\n",
    "daily_activity.head()"
   ]
  },
  {
   "cell_type": "markdown",
   "id": "72787be5",
   "metadata": {},
   "source": [
    "****"
   ]
  },
  {
   "cell_type": "code",
   "execution_count": 63,
   "id": "799db681",
   "metadata": {},
   "outputs": [],
   "source": [
    "#Splitting Day and Time in the hourly_steps DataFrame\n",
    "\n",
    "hourly_steps['Date']=pd.to_datetime(hourly_steps['ActivityHour']).dt.date\n",
    "hourly_steps['Time']=pd.to_datetime(hourly_steps['ActivityHour']).dt.time\n",
    "\n",
    "#Converting the type \n",
    "\n",
    "hourly_steps['Date'] = pd.to_datetime(hourly_steps['Date'], format=\"%Y-%m-%d\")\n",
    "hourly_steps['Time'] = pd.to_datetime(hourly_steps['ActivityHour'], format=\"%I:%M:%S %p\").dt.strftime(date_format=\"%I:%M:%S %p\")\n"
   ]
  },
  {
   "cell_type": "code",
   "execution_count": 64,
   "id": "5d06c8bd",
   "metadata": {},
   "outputs": [
    {
     "data": {
      "text/html": [
       "<div>\n",
       "<style scoped>\n",
       "    .dataframe tbody tr th:only-of-type {\n",
       "        vertical-align: middle;\n",
       "    }\n",
       "\n",
       "    .dataframe tbody tr th {\n",
       "        vertical-align: top;\n",
       "    }\n",
       "\n",
       "    .dataframe thead th {\n",
       "        text-align: right;\n",
       "    }\n",
       "</style>\n",
       "<table border=\"1\" class=\"dataframe\">\n",
       "  <thead>\n",
       "    <tr style=\"text-align: right;\">\n",
       "      <th></th>\n",
       "      <th>Id</th>\n",
       "      <th>ActivityHour</th>\n",
       "      <th>StepTotal</th>\n",
       "      <th>Date</th>\n",
       "      <th>Time</th>\n",
       "    </tr>\n",
       "  </thead>\n",
       "  <tbody>\n",
       "    <tr>\n",
       "      <th>0</th>\n",
       "      <td>1503960366</td>\n",
       "      <td>2016-04-12 00:00:00</td>\n",
       "      <td>373</td>\n",
       "      <td>2016-04-12</td>\n",
       "      <td>12:00:00 AM</td>\n",
       "    </tr>\n",
       "    <tr>\n",
       "      <th>1</th>\n",
       "      <td>1503960366</td>\n",
       "      <td>2016-04-12 01:00:00</td>\n",
       "      <td>160</td>\n",
       "      <td>2016-04-12</td>\n",
       "      <td>01:00:00 AM</td>\n",
       "    </tr>\n",
       "    <tr>\n",
       "      <th>2</th>\n",
       "      <td>1503960366</td>\n",
       "      <td>2016-04-12 02:00:00</td>\n",
       "      <td>151</td>\n",
       "      <td>2016-04-12</td>\n",
       "      <td>02:00:00 AM</td>\n",
       "    </tr>\n",
       "    <tr>\n",
       "      <th>3</th>\n",
       "      <td>1503960366</td>\n",
       "      <td>2016-04-12 03:00:00</td>\n",
       "      <td>0</td>\n",
       "      <td>2016-04-12</td>\n",
       "      <td>03:00:00 AM</td>\n",
       "    </tr>\n",
       "    <tr>\n",
       "      <th>4</th>\n",
       "      <td>1503960366</td>\n",
       "      <td>2016-04-12 04:00:00</td>\n",
       "      <td>0</td>\n",
       "      <td>2016-04-12</td>\n",
       "      <td>04:00:00 AM</td>\n",
       "    </tr>\n",
       "  </tbody>\n",
       "</table>\n",
       "</div>"
      ],
      "text/plain": [
       "           Id        ActivityHour  StepTotal       Date         Time\n",
       "0  1503960366 2016-04-12 00:00:00        373 2016-04-12  12:00:00 AM\n",
       "1  1503960366 2016-04-12 01:00:00        160 2016-04-12  01:00:00 AM\n",
       "2  1503960366 2016-04-12 02:00:00        151 2016-04-12  02:00:00 AM\n",
       "3  1503960366 2016-04-12 03:00:00          0 2016-04-12  03:00:00 AM\n",
       "4  1503960366 2016-04-12 04:00:00          0 2016-04-12  04:00:00 AM"
      ]
     },
     "execution_count": 64,
     "metadata": {},
     "output_type": "execute_result"
    }
   ],
   "source": [
    "hourly_steps.head()"
   ]
  },
  {
   "cell_type": "markdown",
   "id": "f36f9fdf",
   "metadata": {},
   "source": [
    "*****"
   ]
  },
  {
   "cell_type": "markdown",
   "id": "5d189326",
   "metadata": {},
   "source": [
    "## Data Analysis - Vizualisation"
   ]
  },
  {
   "cell_type": "code",
   "execution_count": 65,
   "id": "2e1d669c",
   "metadata": {},
   "outputs": [],
   "source": [
    "import matplotlib.pyplot as plt"
   ]
  },
  {
   "cell_type": "code",
   "execution_count": 66,
   "id": "ab7cfff9",
   "metadata": {
    "scrolled": true
   },
   "outputs": [
    {
     "data": {
      "text/html": [
       "<div>\n",
       "<style scoped>\n",
       "    .dataframe tbody tr th:only-of-type {\n",
       "        vertical-align: middle;\n",
       "    }\n",
       "\n",
       "    .dataframe tbody tr th {\n",
       "        vertical-align: top;\n",
       "    }\n",
       "\n",
       "    .dataframe thead th {\n",
       "        text-align: right;\n",
       "    }\n",
       "</style>\n",
       "<table border=\"1\" class=\"dataframe\">\n",
       "  <thead>\n",
       "    <tr style=\"text-align: right;\">\n",
       "      <th></th>\n",
       "      <th>VeryActiveMinutes</th>\n",
       "      <th>FairlyActiveMinutes</th>\n",
       "      <th>LightlyActiveMinutes</th>\n",
       "      <th>SedentaryMinutes</th>\n",
       "      <th>Calories</th>\n",
       "    </tr>\n",
       "  </thead>\n",
       "  <tbody>\n",
       "    <tr>\n",
       "      <th>count</th>\n",
       "      <td>940.000000</td>\n",
       "      <td>940.000000</td>\n",
       "      <td>940.000000</td>\n",
       "      <td>940.000000</td>\n",
       "      <td>940.000000</td>\n",
       "    </tr>\n",
       "    <tr>\n",
       "      <th>mean</th>\n",
       "      <td>21.164894</td>\n",
       "      <td>13.564894</td>\n",
       "      <td>192.812766</td>\n",
       "      <td>991.210638</td>\n",
       "      <td>2303.609574</td>\n",
       "    </tr>\n",
       "    <tr>\n",
       "      <th>std</th>\n",
       "      <td>32.844803</td>\n",
       "      <td>19.987404</td>\n",
       "      <td>109.174700</td>\n",
       "      <td>301.267437</td>\n",
       "      <td>718.166862</td>\n",
       "    </tr>\n",
       "    <tr>\n",
       "      <th>min</th>\n",
       "      <td>0.000000</td>\n",
       "      <td>0.000000</td>\n",
       "      <td>0.000000</td>\n",
       "      <td>0.000000</td>\n",
       "      <td>0.000000</td>\n",
       "    </tr>\n",
       "    <tr>\n",
       "      <th>25%</th>\n",
       "      <td>0.000000</td>\n",
       "      <td>0.000000</td>\n",
       "      <td>127.000000</td>\n",
       "      <td>729.750000</td>\n",
       "      <td>1828.500000</td>\n",
       "    </tr>\n",
       "    <tr>\n",
       "      <th>50%</th>\n",
       "      <td>4.000000</td>\n",
       "      <td>6.000000</td>\n",
       "      <td>199.000000</td>\n",
       "      <td>1057.500000</td>\n",
       "      <td>2134.000000</td>\n",
       "    </tr>\n",
       "    <tr>\n",
       "      <th>75%</th>\n",
       "      <td>32.000000</td>\n",
       "      <td>19.000000</td>\n",
       "      <td>264.000000</td>\n",
       "      <td>1229.500000</td>\n",
       "      <td>2793.250000</td>\n",
       "    </tr>\n",
       "    <tr>\n",
       "      <th>max</th>\n",
       "      <td>210.000000</td>\n",
       "      <td>143.000000</td>\n",
       "      <td>518.000000</td>\n",
       "      <td>1440.000000</td>\n",
       "      <td>4900.000000</td>\n",
       "    </tr>\n",
       "  </tbody>\n",
       "</table>\n",
       "</div>"
      ],
      "text/plain": [
       "       VeryActiveMinutes  FairlyActiveMinutes  LightlyActiveMinutes  \\\n",
       "count         940.000000           940.000000            940.000000   \n",
       "mean           21.164894            13.564894            192.812766   \n",
       "std            32.844803            19.987404            109.174700   \n",
       "min             0.000000             0.000000              0.000000   \n",
       "25%             0.000000             0.000000            127.000000   \n",
       "50%             4.000000             6.000000            199.000000   \n",
       "75%            32.000000            19.000000            264.000000   \n",
       "max           210.000000           143.000000            518.000000   \n",
       "\n",
       "       SedentaryMinutes     Calories  \n",
       "count        940.000000   940.000000  \n",
       "mean         991.210638  2303.609574  \n",
       "std          301.267437   718.166862  \n",
       "min            0.000000     0.000000  \n",
       "25%          729.750000  1828.500000  \n",
       "50%         1057.500000  2134.000000  \n",
       "75%         1229.500000  2793.250000  \n",
       "max         1440.000000  4900.000000  "
      ]
     },
     "execution_count": 66,
     "metadata": {},
     "output_type": "execute_result"
    }
   ],
   "source": [
    "daily_activity[['VeryActiveMinutes','FairlyActiveMinutes','LightlyActiveMinutes','SedentaryMinutes','Calories']].describe()"
   ]
  },
  {
   "cell_type": "markdown",
   "id": "8bc95e22",
   "metadata": {},
   "source": [
    "\n",
    "The daily average amount of time where users are :\n",
    "\n",
    "**- Very active** --> **<span style = \"color:blue\">21 minutes</span>**.\n",
    "\n",
    "**- Fairly active** --> **<span style = \"color:blue\">14 minutes</span>**.\n",
    "\n",
    "**- Lightly active** --> 193 minutes : **<span style = \"color:blue\">3 hours 13 minutes</span>**.\n",
    "\n",
    "**- Inactive** --> 991 minutes : **<span style = \"color:blue\">16 hours 31 minutes</span>**.\n",
    "\n",
    "The daily average amount of calories consumed : **<span style = \"color:orange\">2304 calories</span>**\n",
    "\n"
   ]
  },
  {
   "cell_type": "markdown",
   "id": "f1b2a52a",
   "metadata": {},
   "source": [
    "#### <span style = \"color:blue\">Calculating number of occurence of each day of the week</span>"
   ]
  },
  {
   "cell_type": "code",
   "execution_count": 67,
   "id": "1869ae80",
   "metadata": {},
   "outputs": [
    {
     "data": {
      "text/plain": [
       "[120, 152, 150, 147, 126, 124, 121]"
      ]
     },
     "execution_count": 67,
     "metadata": {},
     "output_type": "execute_result"
    }
   ],
   "source": [
    "m = int(daily_activity[(daily_activity.Day_of_the_week)=='Monday'].filter(items=['VeryActiveMinutes']).count())\n",
    "\n",
    "tu= int(daily_activity[(daily_activity.Day_of_the_week)=='Tuesday'].filter(items=['VeryActiveMinutes']).count())\n",
    "\n",
    "wed = int(daily_activity[(daily_activity.Day_of_the_week)=='Wednesday'].filter(items=['VeryActiveMinutes']).count())\n",
    "\n",
    "th=int(daily_activity[(daily_activity.Day_of_the_week)=='Thursday'].filter(items=['VeryActiveMinutes']).count())\n",
    "\n",
    "fri=int(daily_activity[(daily_activity.Day_of_the_week)=='Friday'].filter(items=['VeryActiveMinutes']).count())\n",
    "\n",
    "sat=int(daily_activity[(daily_activity.Day_of_the_week)=='Saturday'].filter(items=['VeryActiveMinutes']).count())\n",
    "\n",
    "sun=int(daily_activity[(daily_activity.Day_of_the_week)=='Sunday'].filter(items=['VeryActiveMinutes']).count())\n",
    "\n",
    "occurence = [m,tu,wed,th,fri,sat,sun]\n",
    "occurence"
   ]
  },
  {
   "cell_type": "markdown",
   "id": "3fb00adc",
   "metadata": {},
   "source": [
    "#### <span style = \"color:green\">Calculating number of very active minutes for each day of the week</span>"
   ]
  },
  {
   "cell_type": "code",
   "execution_count": 68,
   "id": "b3922f80",
   "metadata": {},
   "outputs": [],
   "source": [
    "very_active_monday = int(daily_activity[(daily_activity.Day_of_the_week)=='Monday'].filter(items=['VeryActiveMinutes']).sum())\n",
    "\n",
    "very_active_tuesday = int(daily_activity[(daily_activity.Day_of_the_week)=='Tuesday'].filter(items=['VeryActiveMinutes']).sum())\n",
    "\n",
    "very_active_wednesday = int(daily_activity[(daily_activity.Day_of_the_week)=='Wednesday'].filter(items=['VeryActiveMinutes']).sum())\n",
    "\n",
    "very_active_thursday = int(daily_activity[(daily_activity.Day_of_the_week)=='Thursday'].filter(items=['VeryActiveMinutes']).sum())\n",
    "\n",
    "very_active_friday = int(daily_activity[(daily_activity.Day_of_the_week)=='Friday'].filter(items=['VeryActiveMinutes']).sum())\n",
    "\n",
    "very_active_saturday = int(daily_activity[(daily_activity.Day_of_the_week)=='Saturday'].filter(items=['VeryActiveMinutes']).sum())\n",
    "\n",
    "very_active_sunday = int(daily_activity[(daily_activity.Day_of_the_week)=='Sunday'].filter(items=['VeryActiveMinutes']).sum())\n"
   ]
  },
  {
   "cell_type": "code",
   "execution_count": 69,
   "id": "61660447",
   "metadata": {},
   "outputs": [
    {
     "data": {
      "text/plain": [
       "[23.108333333333334,\n",
       " 22.95394736842105,\n",
       " 20.78,\n",
       " 19.408163265306122,\n",
       " 20.055555555555557,\n",
       " 21.919354838709676,\n",
       " 19.983471074380166]"
      ]
     },
     "execution_count": 69,
     "metadata": {},
     "output_type": "execute_result"
    }
   ],
   "source": [
    "very_active_slices = [very_active_monday/m,very_active_tuesday/tu, very_active_wednesday/wed, very_active_thursday/th,\n",
    "                      very_active_friday/fri,very_active_saturday/sat,very_active_sunday/sun]\n",
    "\n",
    "very_active_slices"
   ]
  },
  {
   "cell_type": "markdown",
   "id": "69108b93",
   "metadata": {},
   "source": [
    "#### <span style = \"color:green\">Calculating number of fairly active minutes for each day of the week</span>"
   ]
  },
  {
   "cell_type": "code",
   "execution_count": 70,
   "id": "9c77fd06",
   "metadata": {},
   "outputs": [],
   "source": [
    "fairly_active_monday = int(daily_activity[(daily_activity.Day_of_the_week)=='Monday'].filter(items=['FairlyActiveMinutes']).sum())\n",
    "\n",
    "fairly_active_tuesday = int(daily_activity[(daily_activity.Day_of_the_week)=='Tuesday'].filter(items=['FairlyActiveMinutes']).sum())\n",
    "\n",
    "fairly_active_wednesday = int(daily_activity[(daily_activity.Day_of_the_week)=='Wednesday'].filter(items=['FairlyActiveMinutes']).sum())\n",
    "\n",
    "fairly_active_thursday = int(daily_activity[(daily_activity.Day_of_the_week)=='Thursday'].filter(items=['FairlyActiveMinutes']).sum())\n",
    "\n",
    "fairly_active_friday = int(daily_activity[(daily_activity.Day_of_the_week)=='Friday'].filter(items=['FairlyActiveMinutes']).sum())\n",
    "\n",
    "fairly_active_saturday = int(daily_activity[(daily_activity.Day_of_the_week)=='Saturday'].filter(items=['FairlyActiveMinutes']).sum())\n",
    "\n",
    "fairly_active_sunday = int(daily_activity[(daily_activity.Day_of_the_week)=='Sunday'].filter(items=['FairlyActiveMinutes']).sum())"
   ]
  },
  {
   "cell_type": "code",
   "execution_count": 71,
   "id": "f57d29b6",
   "metadata": {},
   "outputs": [
    {
     "data": {
      "text/plain": [
       "[14.0,\n",
       " 14.335526315789474,\n",
       " 13.1,\n",
       " 11.959183673469388,\n",
       " 12.11111111111111,\n",
       " 15.201612903225806,\n",
       " 14.52892561983471]"
      ]
     },
     "execution_count": 71,
     "metadata": {},
     "output_type": "execute_result"
    }
   ],
   "source": [
    "fairly_active_slices = [fairly_active_monday/m, fairly_active_tuesday/tu, fairly_active_wednesday/wed, fairly_active_thursday/th,\n",
    "                      fairly_active_friday/fri,fairly_active_saturday/sat,fairly_active_sunday/sun]\n",
    "\n",
    "fairly_active_slices"
   ]
  },
  {
   "cell_type": "markdown",
   "id": "ab3ea08c",
   "metadata": {},
   "source": [
    "#### <span style = \"color:green\">Calculating number of lightly active minutes for each day of the week</span>"
   ]
  },
  {
   "cell_type": "code",
   "execution_count": 72,
   "id": "4cfbeaa8",
   "metadata": {},
   "outputs": [],
   "source": [
    "lightly_active_monday = int(daily_activity[(daily_activity.Day_of_the_week)=='Monday'].filter(items=['LightlyActiveMinutes']).sum())\n",
    "\n",
    "lightly_active_tuesday = int(daily_activity[(daily_activity.Day_of_the_week)=='Tuesday'].filter(items=['LightlyActiveMinutes']).sum())\n",
    "\n",
    "lightly_active_wednesday = int(daily_activity[(daily_activity.Day_of_the_week)=='Wednesday'].filter(items=['LightlyActiveMinutes']).sum())\n",
    "\n",
    "lightly_active_thursday = int(daily_activity[(daily_activity.Day_of_the_week)=='Thursday'].filter(items=['LightlyActiveMinutes']).sum())\n",
    "\n",
    "lightly_active_friday = int(daily_activity[(daily_activity.Day_of_the_week)=='Friday'].filter(items=['LightlyActiveMinutes']).sum())\n",
    "\n",
    "lightly_active_saturday = int(daily_activity[(daily_activity.Day_of_the_week)=='Saturday'].filter(items=['LightlyActiveMinutes']).sum())\n",
    "\n",
    "lightly_active_sunday = int(daily_activity[(daily_activity.Day_of_the_week)=='Sunday'].filter(items=['LightlyActiveMinutes']).sum())"
   ]
  },
  {
   "cell_type": "code",
   "execution_count": 73,
   "id": "67f4b4c9",
   "metadata": {},
   "outputs": [
    {
     "data": {
      "text/plain": [
       "[192.05833333333334,\n",
       " 197.3421052631579,\n",
       " 189.85333333333332,\n",
       " 185.42176870748298,\n",
       " 204.1984126984127,\n",
       " 207.1451612903226,\n",
       " 173.97520661157026]"
      ]
     },
     "execution_count": 73,
     "metadata": {},
     "output_type": "execute_result"
    }
   ],
   "source": [
    "lightly_active_slices = [lightly_active_monday/m, lightly_active_tuesday/tu, lightly_active_wednesday/wed, lightly_active_thursday/th,\n",
    "                      lightly_active_friday/fri,lightly_active_saturday/sat,lightly_active_sunday/sun]\n",
    "\n",
    "lightly_active_slices"
   ]
  },
  {
   "cell_type": "markdown",
   "id": "960901a7",
   "metadata": {},
   "source": [
    "#### <span style = \"color:green\">Calculating number of inactive minutes for each day of the week</span>"
   ]
  },
  {
   "cell_type": "code",
   "execution_count": 74,
   "id": "05c021e7",
   "metadata": {},
   "outputs": [],
   "source": [
    "inactive_monday = int(daily_activity[(daily_activity.Day_of_the_week)=='Monday'].filter(items=['SedentaryMinutes']).sum())\n",
    "\n",
    "inactive_tuesday = int(daily_activity[(daily_activity.Day_of_the_week)=='Tuesday'].filter(items=['SedentaryMinutes']).sum())\n",
    "\n",
    "inactive_wednesday = int(daily_activity[(daily_activity.Day_of_the_week)=='Wednesday'].filter(items=['SedentaryMinutes']).sum())\n",
    "\n",
    "inactive_thursday = int(daily_activity[(daily_activity.Day_of_the_week)=='Thursday'].filter(items=['SedentaryMinutes']).sum())\n",
    "\n",
    "inactive_friday = int(daily_activity[(daily_activity.Day_of_the_week)=='Friday'].filter(items=['SedentaryMinutes']).sum())\n",
    "\n",
    "inactive_saturday = int(daily_activity[(daily_activity.Day_of_the_week)=='Saturday'].filter(items=['SedentaryMinutes']).sum())\n",
    "\n",
    "inactive_sunday = int(daily_activity[(daily_activity.Day_of_the_week)=='Sunday'].filter(items=['SedentaryMinutes']).sum())"
   ]
  },
  {
   "cell_type": "code",
   "execution_count": 75,
   "id": "6d79fc24",
   "metadata": {},
   "outputs": [
    {
     "data": {
      "text/plain": [
       "[1027.9416666666666,\n",
       " 1007.3618421052631,\n",
       " 989.48,\n",
       " 961.9931972789116,\n",
       " 1000.3095238095239,\n",
       " 964.2822580645161,\n",
       " 990.2561983471074]"
      ]
     },
     "execution_count": 75,
     "metadata": {},
     "output_type": "execute_result"
    }
   ],
   "source": [
    "inactive_slices = [inactive_monday/m, inactive_tuesday/tu, inactive_wednesday/wed, inactive_thursday/th,\n",
    "                      inactive_friday/fri,inactive_saturday/sat,inactive_sunday/sun]\n",
    "\n",
    "inactive_slices"
   ]
  },
  {
   "cell_type": "markdown",
   "id": "056802e3",
   "metadata": {},
   "source": [
    "### <span style = \"color:#007FA9\">Visualizing Nature of activity VS day of the week</span>"
   ]
  },
  {
   "cell_type": "code",
   "execution_count": 76,
   "id": "fea6a164",
   "metadata": {},
   "outputs": [
    {
     "data": {
      "image/png": "[encoded data removed]",
      "text/plain": [
       "<Figure size 432x288 with 4 Axes>"
      ]
     },
     "metadata": {},
     "output_type": "display_data"
    }
   ],
   "source": [
    "\n",
    "fig, ax =  plt.subplots(nrows=2, ncols=2)\n",
    "\n",
    "plt.subplots_adjust(left=1, bottom=3, right=2, top=4, wspace=5, hspace=5)\n",
    "\n",
    "labels = [\"Mon\", \"Tues\", \"Wed\", \"Thurs\",\"Fri\",\"Sat\",\"Sun\"]\n",
    "\n",
    "colors = [\"#DB6A8F\", \"#B6D8F2\", \"#E9D1A9\", \"#C49FFF\",\"#F38071\",\"#FFCAD1\",\"#BED3C3\"]\n",
    "\n",
    "ax[0,0].pie(very_active_slices,labels=labels,colors=colors,radius=5.5,autopct = \"%1.1f%%\")\n",
    "\n",
    "ax[0,1].pie(fairly_active_slices,labels=labels,colors=colors,radius=5.5,autopct = \"%1.1f%%\")\n",
    "\n",
    "ax[1,0].pie(lightly_active_slices,labels=labels,colors=colors,radius=5.5,autopct = \"%1.1f%%\")\n",
    "\n",
    "ax[1,1].pie(inactive_slices,labels=labels,colors=colors,radius=5.5,autopct = \"%1.1f%%\")\n",
    "\n",
    "ax[0,0].set_title(\"Intense Activity during the week\",pad=100,fontsize=19)\n",
    "ax[0,1].set_title(\"Fair Activity during the week\",pad=100,fontsize=19)\n",
    "ax[1,0].set_title(\"Light Activity during the week\",pad=95,fontsize=19)\n",
    "ax[1,1].set_title(\"Inactivity during the week\",pad=95,fontsize=19)\n",
    "\n",
    "plt.show()"
   ]
  },
  {
   "cell_type": "markdown",
   "id": "e3260bc7",
   "metadata": {},
   "source": [
    "#### <span style = \"color:#F38071\">Interpretation:</span>\n",
    "\n",
    "The daily activity remains the same for each type regardless of the day of the week."
   ]
  },
  {
   "cell_type": "markdown",
   "id": "7ab99293",
   "metadata": {},
   "source": [
    "### <span style = \"color:#007FA9\">Visualizing number of steps throughout the day</span>"
   ]
  },
  {
   "cell_type": "markdown",
   "id": "97cfcbb0",
   "metadata": {},
   "source": [
    "****"
   ]
  },
  {
   "cell_type": "code",
   "execution_count": 77,
   "id": "fcec66d6",
   "metadata": {},
   "outputs": [
    {
     "data": {
      "text/plain": [
       "['12:00:00 AM',\n",
       " '01:00:00 AM',\n",
       " '02:00:00 AM',\n",
       " '03:00:00 AM',\n",
       " '04:00:00 AM',\n",
       " '05:00:00 AM',\n",
       " '06:00:00 AM',\n",
       " '07:00:00 AM',\n",
       " '08:00:00 AM',\n",
       " '09:00:00 AM',\n",
       " '10:00:00 AM',\n",
       " '11:00:00 AM',\n",
       " '12:00:00 PM',\n",
       " '01:00:00 PM',\n",
       " '02:00:00 PM',\n",
       " '03:00:00 PM',\n",
       " '04:00:00 PM',\n",
       " '05:00:00 PM',\n",
       " '06:00:00 PM',\n",
       " '07:00:00 PM',\n",
       " '08:00:00 PM',\n",
       " '09:00:00 PM',\n",
       " '10:00:00 PM',\n",
       " '11:00:00 PM']"
      ]
     },
     "execution_count": 77,
     "metadata": {},
     "output_type": "execute_result"
    }
   ],
   "source": [
    "time = hourly_steps['Time'].unique().tolist()\n",
    "time"
   ]
  },
  {
   "cell_type": "code",
   "execution_count": 78,
   "id": "c5d4d13d",
   "metadata": {},
   "outputs": [
    {
     "data": {
      "text/plain": [
       "Time\n",
       "01:00:00 AM     23.0\n",
       "01:00:00 PM    538.0\n",
       "02:00:00 AM     17.0\n",
       "02:00:00 PM    541.0\n",
       "03:00:00 AM      6.0\n",
       "03:00:00 PM    406.0\n",
       "04:00:00 AM     13.0\n",
       "04:00:00 PM    497.0\n",
       "05:00:00 AM     44.0\n",
       "05:00:00 PM    550.0\n",
       "06:00:00 AM    179.0\n",
       "06:00:00 PM    599.0\n",
       "07:00:00 AM    306.0\n",
       "07:00:00 PM    583.0\n",
       "08:00:00 AM    428.0\n",
       "08:00:00 PM    354.0\n",
       "09:00:00 AM    433.0\n",
       "09:00:00 PM    308.0\n",
       "10:00:00 AM    482.0\n",
       "10:00:00 PM    238.0\n",
       "11:00:00 AM    457.0\n",
       "11:00:00 PM    122.0\n",
       "12:00:00 AM     42.0\n",
       "12:00:00 PM    549.0\n",
       "Name: StepTotal, dtype: float64"
      ]
     },
     "execution_count": 78,
     "metadata": {},
     "output_type": "execute_result"
    }
   ],
   "source": [
    "hourly_steps['StepTotal'].groupby(hourly_steps['Time']).mean().round()\n"
   ]
  },
  {
   "cell_type": "code",
   "execution_count": 79,
   "id": "a4b95a8f",
   "metadata": {},
   "outputs": [],
   "source": [
    "steps = [42 ,23,17,6,13,44,179,306,428,433,482,457,549,538,541,406,497,550,599,583,354,308,238,122]"
   ]
  },
  {
   "cell_type": "code",
   "execution_count": 81,
   "id": "77287101",
   "metadata": {},
   "outputs": [
    {
     "data": {
      "image/png": "[encoded data removed]",
      "text/plain": [
       "<Figure size 576x432 with 1 Axes>"
      ]
     },
     "metadata": {
      "needs_background": "light"
     },
     "output_type": "display_data"
    }
   ],
   "source": [
    "plt.figure(figsize=(8,6))\n",
    "plt.bar(time,steps,color=\"#DB6A8F\")\n",
    "plt.title('Hourly number of steps ')\n",
    "plt.xticks(rotation=80)\n",
    "plt.ylabel('Number of steps')\n",
    "plt.show()"
   ]
  },
  {
   "cell_type": "markdown",
   "id": "03d89613",
   "metadata": {},
   "source": [
    "Users are mostly active between 12pm and 2pm,and between 5pm and 7pm ."
   ]
  },
  {
   "cell_type": "markdown",
   "id": "555e5f77",
   "metadata": {},
   "source": [
    "****"
   ]
  },
  {
   "cell_type": "code",
   "execution_count": 44,
   "id": "6e0107e0",
   "metadata": {},
   "outputs": [
    {
     "data": {
      "text/html": [
       "<div>\n",
       "<style scoped>\n",
       "    .dataframe tbody tr th:only-of-type {\n",
       "        vertical-align: middle;\n",
       "    }\n",
       "\n",
       "    .dataframe tbody tr th {\n",
       "        vertical-align: top;\n",
       "    }\n",
       "\n",
       "    .dataframe thead th {\n",
       "        text-align: right;\n",
       "    }\n",
       "</style>\n",
       "<table border=\"1\" class=\"dataframe\">\n",
       "  <thead>\n",
       "    <tr style=\"text-align: right;\">\n",
       "      <th></th>\n",
       "      <th>Total_Hours_Asleep</th>\n",
       "      <th>Total_Hours_In_Bed</th>\n",
       "      <th>Total_Minutes_Awake_In_Bed</th>\n",
       "    </tr>\n",
       "  </thead>\n",
       "  <tbody>\n",
       "    <tr>\n",
       "      <th>count</th>\n",
       "      <td>413.000000</td>\n",
       "      <td>413.000000</td>\n",
       "      <td>413.000000</td>\n",
       "    </tr>\n",
       "    <tr>\n",
       "      <th>mean</th>\n",
       "      <td>6.991671</td>\n",
       "      <td>7.643826</td>\n",
       "      <td>39.171913</td>\n",
       "    </tr>\n",
       "    <tr>\n",
       "      <th>std</th>\n",
       "      <td>1.972475</td>\n",
       "      <td>2.118415</td>\n",
       "      <td>46.570095</td>\n",
       "    </tr>\n",
       "    <tr>\n",
       "      <th>min</th>\n",
       "      <td>0.970000</td>\n",
       "      <td>1.020000</td>\n",
       "      <td>0.000000</td>\n",
       "    </tr>\n",
       "    <tr>\n",
       "      <th>25%</th>\n",
       "      <td>6.020000</td>\n",
       "      <td>6.720000</td>\n",
       "      <td>17.000000</td>\n",
       "    </tr>\n",
       "    <tr>\n",
       "      <th>50%</th>\n",
       "      <td>7.220000</td>\n",
       "      <td>7.720000</td>\n",
       "      <td>25.000000</td>\n",
       "    </tr>\n",
       "    <tr>\n",
       "      <th>75%</th>\n",
       "      <td>8.170000</td>\n",
       "      <td>8.770000</td>\n",
       "      <td>40.000000</td>\n",
       "    </tr>\n",
       "    <tr>\n",
       "      <th>max</th>\n",
       "      <td>13.270000</td>\n",
       "      <td>16.020000</td>\n",
       "      <td>371.000000</td>\n",
       "    </tr>\n",
       "  </tbody>\n",
       "</table>\n",
       "</div>"
      ],
      "text/plain": [
       "       Total_Hours_Asleep  Total_Hours_In_Bed  Total_Minutes_Awake_In_Bed\n",
       "count          413.000000          413.000000                  413.000000\n",
       "mean             6.991671            7.643826                   39.171913\n",
       "std              1.972475            2.118415                   46.570095\n",
       "min              0.970000            1.020000                    0.000000\n",
       "25%              6.020000            6.720000                   17.000000\n",
       "50%              7.220000            7.720000                   25.000000\n",
       "75%              8.170000            8.770000                   40.000000\n",
       "max             13.270000           16.020000                  371.000000"
      ]
     },
     "execution_count": 44,
     "metadata": {},
     "output_type": "execute_result"
    }
   ],
   "source": [
    "sleep_day[['Total_Hours_Asleep','Total_Hours_In_Bed','Total_Minutes_Awake_In_Bed']].describe()"
   ]
  },
  {
   "cell_type": "markdown",
   "id": "5ccf3964",
   "metadata": {},
   "source": [
    "\n",
    "\n",
    "**- Daily average of total hours asleep** --> **<span style = \"color:blue\">7 hours</span>**.\n",
    "\n",
    "**- Daily average of total hours in bed** -->  **<span style = \"color:blue\">7 hours 13 minutes</span>**.\n",
    "\n",
    "**- Daily average of total minutes awake in bed** --> **<span style = \"color:blue\">39 minutes</span>**."
   ]
  },
  {
   "cell_type": "markdown",
   "id": "bd507c25",
   "metadata": {},
   "source": [
    "****"
   ]
  },
  {
   "cell_type": "markdown",
   "id": "451dbdb5",
   "metadata": {},
   "source": [
    "### <span style = \"color:#007FA9\">Visualizing the daily hours of sleep for each day of the week.</span>"
   ]
  },
  {
   "cell_type": "markdown",
   "id": "afb82347",
   "metadata": {},
   "source": [
    "****"
   ]
  },
  {
   "cell_type": "code",
   "execution_count": 1310,
   "id": "58ef8cfc",
   "metadata": {},
   "outputs": [
    {
     "data": {
      "text/plain": [
       "Day_of_week\n",
       "Friday       6.76\n",
       "Monday       6.99\n",
       "Saturday     6.99\n",
       "Sunday       7.55\n",
       "Thursday     6.69\n",
       "Tuesday      6.74\n",
       "Wednesday    7.25\n",
       "Name: Total_Hours_Asleep, dtype: float64"
      ]
     },
     "execution_count": 1310,
     "metadata": {},
     "output_type": "execute_result"
    }
   ],
   "source": [
    "sleep_day['Total_Hours_Asleep'].groupby(sleep_day['Day_of_week']).mean().round(2)"
   ]
  },
  {
   "cell_type": "code",
   "execution_count": 1332,
   "id": "166f8ecb",
   "metadata": {},
   "outputs": [
    {
     "data": {
      "image/png": "[encoded data removed]",
      "text/plain": [
       "<Figure size 576x432 with 1 Axes>"
      ]
     },
     "metadata": {
      "needs_background": "light"
     },
     "output_type": "display_data"
    }
   ],
   "source": [
    "plt.figure(figsize=(8,6))\n",
    "plt.plot(Day_of_week,sleep,color=\"blue\", linewidth='3')\n",
    "plt.ylabel('Hours of sleep')\n",
    "plt.title('Hours of sleep each Day')\n",
    "plt.ylim(ymin=0)\n",
    "plt.show()"
   ]
  },
  {
   "cell_type": "markdown",
   "id": "1d769e30",
   "metadata": {},
   "source": [
    "The average amount of sleep users get is 7h, with extra little amount of sleep on Sundays."
   ]
  },
  {
   "cell_type": "markdown",
   "id": "c4543d96",
   "metadata": {},
   "source": [
    "****"
   ]
  },
  {
   "cell_type": "markdown",
   "id": "ea498832",
   "metadata": {},
   "source": [
    "#  <span style = \"color:#FE8062\">Conclusion</span>"
   ]
  },
  {
   "cell_type": "markdown",
   "id": "40a5a502",
   "metadata": {},
   "source": [
    "In order to improve Bellabeat, the focus should be put on what pushed users use these apps on the first place, which is **<span style = \"color:#A7001E\">making them feel better about themselves, keeping them healthy and motivated to carry on with their day in the best mood possible</span>**.\n",
    "\n",
    "So to achieve that, Bellabeat should work on two things:\n",
    "- The Bellabeat app\n",
    "- The Bellabeat tracking products.\n",
    "\n",
    "\n",
    "####  <span style = \"color:#F0604D\">The Bellabeat app</span> : \n",
    "\n",
    "Nothing beats the right words at the right moment,so **<span style = \"color:#A7001E\">the right notification at the right moment</span>** would achieve the same level of satisfaction.\n",
    "\n",
    ".  As depicted in the pie charts, users tend to have the same level of activities everyday, they are intensively active for 21 minutes each day,according to the bar chart the time of this activity falls between 12pm and 2 pm, and between 5pm and 7pm so the app should remind them to stay hydrated at that time.\n",
    "\n",
    ". Users spend 39 minutes in bed awake, now the real question is : Is it before going to sleep or after waking up?\n",
    "\n",
    "For the first scenario, the app can suggest little stories, lullabies or calm music to help them fall asleep, as for the second they usually would be checking their phone, so starting the day with positive words of affirmation would be very appreciated.\n",
    "\n",
    "####  <span style = \"color:#F0604D\">The Bellabeat products</span> : \n",
    "\n",
    "Women are known for their interest in looking good, clean and put together.So the products must match their preference,that would encourage them to wear and use them."
   ]
  }
 ],
 "metadata": {
  "kernelspec": {
   "display_name": "Python 3 (ipykernel)",
   "language": "python",
   "name": "python3"
  },
  "language_info": {
   "codemirror_mode": {
    "name": "ipython",
    "version": 3
   },
   "file_extension": ".py",
   "mimetype": "text/x-python",
   "name": "python",
   "nbconvert_exporter": "python",
   "pygments_lexer": "ipython3",
   "version": "3.9.7"
  }
 },
 "nbformat": 4,
 "nbformat_minor": 5
}
